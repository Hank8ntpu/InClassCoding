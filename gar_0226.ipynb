{
 "cells": [
  {
   "cell_type": "code",
   "execution_count": 3,
   "metadata": {},
   "outputs": [
    {
     "name": "stdout",
     "output_type": "stream",
     "text": [
      "<class 'pandas.core.frame.DataFrame'>\n",
      "RangeIndex: 329 entries, 0 to 328\n",
      "Data columns (total 9 columns):\n",
      " #   Column          Non-Null Count  Dtype\n",
      "---  ------          --------------  -----\n",
      " 0   climate         329 non-null    int64\n",
      " 1   housing         329 non-null    int64\n",
      " 2   health          329 non-null    int64\n",
      " 3   crime           329 non-null    int64\n",
      " 4   transportation  329 non-null    int64\n",
      " 5   education       329 non-null    int64\n",
      " 6   arts            329 non-null    int64\n",
      " 7   recreation      329 non-null    int64\n",
      " 8   economics       329 non-null    int64\n",
      "dtypes: int64(9)\n",
      "memory usage: 23.3 KB\n"
     ]
    }
   ],
   "source": [
    "import pandas as pd\n",
    "import numpy as np\n",
    "\n",
    "df = pd.read_excel('data/city_quality.xlsx')\n",
    "df.head() # first 5 rows\n",
    "df.describe() # summary statistics\n",
    "df.info() # data types and missing values"
   ]
  }
 ],
 "metadata": {
  "kernelspec": {
   "display_name": "Python 3",
   "language": "python",
   "name": "python3"
  },
  "language_info": {
   "codemirror_mode": {
    "name": "ipython",
    "version": 3
   },
   "file_extension": ".py",
   "mimetype": "text/x-python",
   "name": "python",
   "nbconvert_exporter": "python",
   "pygments_lexer": "ipython3",
   "version": "3.10.8"
  }
 },
 "nbformat": 4,
 "nbformat_minor": 2
}
